{
  "cells": [
    {
      "cell_type": "markdown",
      "id": "a8c200a7-b3ab-4c9a-bcf8-320271c040f3",
      "metadata": {
        "id": "a8c200a7-b3ab-4c9a-bcf8-320271c040f3"
      },
      "source": [
        "In case you are using google colab, uncomment the following cell, and modify the ```notebook_dir``` variable to contain the directory this notebook is in. It will automatically download the .py files needed for this assignment"
      ]
    },
    {
      "cell_type": "code",
      "execution_count": 2,
      "id": "igFRsZKIC18S",
      "metadata": {
        "id": "igFRsZKIC18S"
      },
      "outputs": [],
      "source": [
        "# # Change the following  line to the directory this notebook is (if using colab)\n",
        "# # In case you do not know the path, open the file navigator on the left in colab\n",
        "# # Find the folder containing this notebook, then press on the three dots --> copy path\n",
        "notebook_dir = \"/content/drive/MyDrive/Colab Notebooks/\""
      ]
    },
    {
      "cell_type": "code",
      "execution_count": 3,
      "id": "828246d4-75b2-42b7-ab06-925e6624f411",
      "metadata": {
        "colab": {
          "base_uri": "https://localhost:8080/"
        },
        "id": "828246d4-75b2-42b7-ab06-925e6624f411",
        "outputId": "e051622a-0eef-45e8-d527-bbb25f7a0f08"
      },
      "outputs": [
        {
          "name": "stdout",
          "output_type": "stream",
          "text": [
            "Mounted at /content/drive\n"
          ]
        }
      ],
      "source": [
        "# # UNCOMMENT IF USING COLAB\n",
        "from google.colab import drive\n",
        "import requests\n",
        "drive.mount('/content/drive')\n",
        "import sys\n",
        "import os\n",
        "sys.path.insert(0, notebook_dir)\n",
        "os.chdir(notebook_dir)\n",
        "symco = \"https://github.com/vlamen/tue-deeplearning/blob/main/assignments/assignment_1/symconv.py?raw=true\"\n",
        "crpt = \"https://github.com/vlamen/tue-deeplearning/blob/main/assignments/assignment_1/carpet.py?raw=true\"\n",
        "r_s = requests.get(symco, allow_redirects=True)\n",
        "r_c = requests.get(crpt, allow_redirects=True)\n",
        "with open('symconv.py', 'wb') as f:\n",
        "    f.write(r_s.content)\n",
        "with open('carpet.py', 'wb') as f:\n",
        "    f.write(r_c.content)"
      ]
    },
    {
      "cell_type": "code",
      "execution_count": 4,
      "id": "1c401bd6-3828-4f5e-ada8-a026e0a167bf",
      "metadata": {
        "id": "1c401bd6-3828-4f5e-ada8-a026e0a167bf"
      },
      "outputs": [],
      "source": [
        "import torch\n",
        "import torch.nn as nn\n",
        "import torch.nn.functional as F\n",
        "from torch.utils.data import DataLoader, Dataset, TensorDataset\n",
        "\n",
        "import io\n",
        "import requests\n",
        "\n",
        "import symconv as sc\n",
        "from carpet import show_carpet, oh_to_label\n",
        "\n",
        "import numpy as np\n",
        "import matplotlib.pyplot as plt\n",
        "\n",
        "from scipy.spatial.distance import cdist\n",
        "\n",
        "from tqdm import tqdm"
      ]
    },
    {
      "cell_type": "code",
      "execution_count": 5,
      "id": "35c0bcb8-5215-40b3-8ba2-7e4208651c90",
      "metadata": {
        "id": "35c0bcb8-5215-40b3-8ba2-7e4208651c90"
      },
      "outputs": [],
      "source": [
        "def load_numpy_arr_from_url(url):\n",
        "    \"\"\"\n",
        "    Loads a numpy array from surfdrive.\n",
        "\n",
        "    Input:\n",
        "    url: Download link of dataset\n",
        "\n",
        "    Outputs:\n",
        "    dataset: numpy array with input features or labels\n",
        "    \"\"\"\n",
        "\n",
        "    response = requests.get(url)\n",
        "    response.raise_for_status()\n",
        "\n",
        "    return np.load(io.BytesIO(response.content))"
      ]
    },
    {
      "cell_type": "markdown",
      "id": "045a1fdc-8c84-4829-b8c8-14c957f733f6",
      "metadata": {
        "id": "045a1fdc-8c84-4829-b8c8-14c957f733f6"
      },
      "source": [
        "# Task 1: Pattern Classification"
      ]
    },
    {
      "cell_type": "code",
      "execution_count": 6,
      "id": "a45b63ab-610e-4e03-b1da-a717c2a77c8a",
      "metadata": {
        "colab": {
          "base_uri": "https://localhost:8080/"
        },
        "id": "a45b63ab-610e-4e03-b1da-a717c2a77c8a",
        "outputId": "e71dfaa6-6abd-4a9e-ccd6-15fd6997146c"
      },
      "outputs": [
        {
          "name": "stdout",
          "output_type": "stream",
          "text": [
            "Carpet train shape: torch.Size([7500, 1, 96, 60])\n",
            "Label train shape: torch.Size([7500, 3])\n",
            "Carpet validation shape: torch.Size([2000, 1, 96, 60])\n",
            "Label validation shape: torch.Size([2000, 3])\n",
            "Carpet test shape: torch.Size([500, 1, 96, 60])\n",
            "Label test shape: torch.Size([500, 3])\n"
          ]
        }
      ],
      "source": [
        "# loading training and testing data for task 1\n",
        "# DO NOT MODIFY\n",
        "task1 = load_numpy_arr_from_url(\"https://github.com/vlamen/tue-deeplearning/blob/main/assignments/assignment_1/task1data.npz?raw=true\")\n",
        "# task1 = np.load(\"task1data.npz\")\n",
        "\n",
        "X = torch.tensor(task1['arr_0']).float()\n",
        "y = torch.tensor(task1['arr_1']).float()\n",
        "\n",
        "X_train = X[:7500]\n",
        "X_val = X[7500:9500]\n",
        "X_test = X[9500:]\n",
        "y_train = y[:7500]\n",
        "y_val = y[7500:9500]\n",
        "y_test  = y[9500:]\n",
        "\n",
        "train_dataset = TensorDataset(X_train, y_train)\n",
        "val_dataset = TensorDataset(X_val, y_val)\n",
        "test_dataset = TensorDataset(X_test, y_test)\n",
        "\n",
        "\n",
        "print(f\"Carpet train shape: {X_train.shape}\")\n",
        "print(f\"Label train shape: {y_train.shape}\")\n",
        "print(f\"Carpet validation shape: {X_val.shape}\")\n",
        "print(f\"Label validation shape: {y_val.shape}\")\n",
        "print(f\"Carpet test shape: {X_test.shape}\")\n",
        "print(f\"Label test shape: {y_test.shape}\")"
      ]
    },
    {
      "cell_type": "code",
      "execution_count": 7,
      "id": "a4c5553f-023f-48fc-81b5-83184a46a21d",
      "metadata": {
        "colab": {
          "base_uri": "https://localhost:8080/",
          "height": 302
        },
        "id": "a4c5553f-023f-48fc-81b5-83184a46a21d",
        "outputId": "afb87418-bec3-4433-cca7-8c71ac93fc21"
      },
      "outputs": [
        {
          "name": "stdout",
          "output_type": "stream",
          "text": [
            "Carpet from Transformabad\n"
          ]
        },
        {
          "data": {
            "image/png": "[encoded data removed]",
            "text/plain": [
              "<Figure size 640x480 with 1 Axes>"
            ]
          },
          "metadata": {},
          "output_type": "display_data"
        }
      ],
      "source": [
        "# random carpet\n",
        "idx = np.random.randint(0,7500)\n",
        "show_carpet(X_train, idx)\n",
        "print('Carpet from', oh_to_label(y_train[idx,None])[0])"
      ]
    },
    {
      "cell_type": "code",
      "execution_count": 8,
      "id": "t0Rxo0dswUUM",
      "metadata": {
        "id": "t0Rxo0dswUUM"
      },
      "outputs": [],
      "source": [
        "def loss_batch(model, loss_func, xb, yb, opt=None):\n",
        "\n",
        "    output=model(xb)\n",
        "    loss = loss_func(output, yb)\n",
        "\n",
        "    if opt is not None:\n",
        "        loss.backward()\n",
        "        opt.step()\n",
        "        opt.zero_grad()\n",
        "\n",
        "    _, preds = torch.max(output, 1)\n",
        "    corrects = torch.sum(preds == yb.data)\n",
        "\n",
        "    return loss.item(), corrects, len(xb)"
      ]
    },
    {
      "cell_type": "code",
      "execution_count": 9,
      "id": "7a5db004-5dbf-42b3-a665-3c97c293d6c5",
      "metadata": {
        "id": "7a5db004-5dbf-42b3-a665-3c97c293d6c5"
      },
      "outputs": [],
      "source": [
        "###     YOUR CODE FOR TASK 1    ###\n",
        "### ADD MORE CELLS IF NECESSARY ###\n",
        "\n",
        "import torch.optim as optim\n",
        "import torch.nn.functional as F\n",
        "from torch.utils.data import DataLoader\n",
        "from torch.utils.tensorboard import SummaryWriter\n",
        "\n",
        "\n",
        "def fit(train_dataset, val_dataset, model, num_epochs, learning_rate=0.001, batch_size=64, device='cuda'):\n",
        "    train_loader = DataLoader(train_dataset, batch_size=batch_size, shuffle=True)\n",
        "    val_loader = DataLoader(val_dataset, batch_size=batch_size, shuffle=False)\n",
        "\n",
        "    criterion = torch.nn.CrossEntropyLoss()\n",
        "    optimizer = optim.Adam(model.parameters(), lr=learning_rate)\n",
        "\n",
        "    model.to(device)\n",
        "\n",
        "    for epoch in range(num_epochs):\n",
        "\n",
        "\n",
        "        # Training process\n",
        "        model.train()\n",
        "\n",
        "        train_loss = 0.0\n",
        "        train_correct = 0\n",
        "        sample_num = 0\n",
        "\n",
        "        # Loop over taining set\n",
        "        for X_batch, y_batch in train_loader:\n",
        "            # Send the input to the device\n",
        "            X_batch, y_batch = X_batch.to(device), y_batch.to(device)\n",
        "            # Convert one-hot to indices\n",
        "            y_batch_indices = torch.argmax(y_batch, axis=1)\n",
        "\n",
        "            losses, corrects, nums = loss_batch(model, criterion, X_batch, y_batch_indices, optimizer)\n",
        "\n",
        "            # Statistics\n",
        "            train_correct += corrects\n",
        "            train_loss += losses\n",
        "            sample_num += nums\n",
        "\n",
        "        train_loss /= sample_num\n",
        "        train_acc = train_correct / sample_num\n",
        "\n",
        "        # Validation process\n",
        "        model.eval()\n",
        "        with torch.no_grad():\n",
        "            val_loss = 0\n",
        "            val_correct = 0\n",
        "            sample_num = 0\n",
        "\n",
        "            # Loop over validation set\n",
        "            for X_batch, y_batch in val_loader:\n",
        "                # Send the input to the device\n",
        "                X_batch, y_batch = X_batch.to(device), y_batch.to(device)\n",
        "                # Convert one-hot to indices\n",
        "                y_batch_indices = torch.argmax(y_batch, axis=1)\n",
        "                losses, corrects, nums = loss_batch(model, criterion, X_batch, y_batch_indices)\n",
        "\n",
        "                val_correct += corrects\n",
        "                val_loss += losses * X_batch.size(0)\n",
        "                sample_num += nums\n",
        "\n",
        "        val_loss /= sample_num\n",
        "        val_acc = val_correct / sample_num\n",
        "\n",
        "        print(f'Epoch: {epoch+1}/{num_epochs}, Train Loss: {train_loss:.6f}, Train Acc: {train_acc:.6f}, Val Loss: {val_loss:.6f}, Val Acc: {val_acc:.6f}')"
      ]
    },
    {
      "cell_type": "code",
      "execution_count": 20,
      "id": "GcrjVRT0fP3V",
      "metadata": {
        "id": "GcrjVRT0fP3V"
      },
      "outputs": [],
      "source": [
        "from symconv import Slice, SymmetryConv2d, SymmetryPool\n",
        "\n",
        "class CarpetNet(nn.Module):\n",
        "    def __init__(self, n_classes=3):\n",
        "        super(CarpetNet, self).__init__()\n",
        "\n",
        "        # unit cell (4-fold rotation), 18 filters (18 different unit cells)\n",
        "        self.slice4 = Slice(rotation=4, reflection=False)\n",
        "        self.conv1 = SymmetryConv2d(in_filters=1, out_filters=18, kernel_size=4, stride=4, rotation=4, reflection=False)\n",
        "\n",
        "        # super cell (1-fold rotation), 12 filters (12 different super cells)\n",
        "        self.slice1 = Slice(rotation=1, reflection=False)\n",
        "        self.conv2 = SymmetryConv2d(in_filters=18, out_filters=24, kernel_size=3, stride=3, rotation=1, reflection=False)\n",
        "\n",
        "        self.relu = nn.ReLU()\n",
        "        self.pool = SymmetryPool()\n",
        "\n",
        "        # Classifier head\n",
        "        self.fc1 = nn.Linear(960, 128)\n",
        "        self.fc2 = nn.Linear(128, n_classes)\n",
        "        # self.fc1 = nn.Linear(480, n_classes)\n",
        "\n",
        "    def forward(self, x):\n",
        "        # Unit cell level\n",
        "        x = self.slice4(x)\n",
        "        x = self.conv1(x)\n",
        "        x = self.relu(x)\n",
        "        x = self.pool(x)\n",
        "\n",
        "        # Super cell level\n",
        "        x = self.slice1(x)\n",
        "        x = self.conv2(x)\n",
        "        x = self.relu(x)\n",
        "        x = self.pool(x)\n",
        "\n",
        "        # Classifier head\n",
        "        x = torch.flatten(x, 1)\n",
        "        x = self.fc1(x)\n",
        "        x = self.relu(x)\n",
        "        x = self.fc2(x)\n",
        "\n",
        "        return x"
      ]
    },
    {
      "cell_type": "code",
      "execution_count": 21,
      "id": "v5j_7b8Afij_",
      "metadata": {
        "colab": {
          "base_uri": "https://localhost:8080/"
        },
        "id": "v5j_7b8Afij_",
        "outputId": "76922af6-671b-44db-cfed-d44d1cb9a414"
      },
      "outputs": [
        {
          "name": "stdout",
          "output_type": "stream",
          "text": [
            "Epoch: 1/15, Train Loss: 0.017470, Train Acc: 0.338667, Val Loss: 1.168209, Val Acc: 0.326500\n",
            "Epoch: 2/15, Train Loss: 0.008635, Train Acc: 0.387067, Val Loss: 1.069244, Val Acc: 0.430500\n",
            "Epoch: 3/15, Train Loss: 0.007906, Train Acc: 0.492667, Val Loss: 0.957533, Val Acc: 0.546000\n",
            "Epoch: 4/15, Train Loss: 0.006539, Train Acc: 0.653733, Val Loss: 0.721057, Val Acc: 0.721000\n",
            "Epoch: 5/15, Train Loss: 0.003937, Train Acc: 0.831733, Val Loss: 0.303955, Val Acc: 0.912000\n",
            "Epoch: 6/15, Train Loss: 0.001610, Train Acc: 0.944667, Val Loss: 0.180246, Val Acc: 0.945000\n",
            "Epoch: 7/15, Train Loss: 0.000761, Train Acc: 0.980533, Val Loss: 0.103267, Val Acc: 0.968000\n",
            "Epoch: 8/15, Train Loss: 0.000479, Train Acc: 0.988667, Val Loss: 0.072923, Val Acc: 0.982500\n",
            "Epoch: 9/15, Train Loss: 0.000348, Train Acc: 0.992000, Val Loss: 0.070981, Val Acc: 0.975500\n",
            "Epoch: 10/15, Train Loss: 0.000287, Train Acc: 0.993067, Val Loss: 0.062163, Val Acc: 0.983000\n",
            "Epoch: 11/15, Train Loss: 0.000176, Train Acc: 0.997333, Val Loss: 0.064045, Val Acc: 0.976500\n",
            "Epoch: 12/15, Train Loss: 0.000135, Train Acc: 0.998000, Val Loss: 0.035882, Val Acc: 0.989000\n",
            "Epoch: 13/15, Train Loss: 0.000094, Train Acc: 0.999467, Val Loss: 0.033075, Val Acc: 0.990500\n",
            "Epoch: 14/15, Train Loss: 0.000071, Train Acc: 0.999733, Val Loss: 0.032367, Val Acc: 0.991000\n",
            "Epoch: 15/15, Train Loss: 0.000056, Train Acc: 0.999733, Val Loss: 0.035049, Val Acc: 0.987000\n"
          ]
        }
      ],
      "source": [
        "batch_size = 128\n",
        "epochs = 15\n",
        "\n",
        "device = torch.device(\"mps\" if torch.backends.mps.is_available() else \"cpu\")\n",
        "\n",
        "symmetryCNN = CarpetNet()\n",
        "\n",
        "# train the model\n",
        "fit(train_dataset, val_dataset, symmetryCNN, num_epochs=epochs,\n",
        "            learning_rate=0.001, batch_size=batch_size, device=device)"
      ]
    },
    {
      "cell_type": "code",
      "execution_count": 22,
      "id": "BJ6_81wofk2J",
      "metadata": {
        "id": "BJ6_81wofk2J"
      },
      "outputs": [],
      "source": [
        "# evaluate test accuracy\n",
        "def evaluate(model, test_data):\n",
        "  model.eval()\n",
        "  with torch.no_grad():\n",
        "    test_correct = 0\n",
        "    for X_batch, y_batch in test_data:\n",
        "        X_batch, y_batch = X_batch.to(device), y_batch.to(device)\n",
        "        y_batch_indices = torch.argmax(y_batch, axis=1)  # Convert one-hot to indices\n",
        "\n",
        "        output = model(X_batch)\n",
        "        _, predicted = output.max(1)\n",
        "        test_correct += predicted.eq(y_batch_indices).sum().item()\n",
        "\n",
        "    test_acc = test_correct / len(test_dataset)\n",
        "    print(f'Test Acc: {test_acc:.6f}')"
      ]
    },
    {
      "cell_type": "code",
      "execution_count": 23,
      "id": "ycP2v6ptx8TV",
      "metadata": {
        "colab": {
          "base_uri": "https://localhost:8080/"
        },
        "id": "ycP2v6ptx8TV",
        "outputId": "08aefeba-d040-430b-9589-4055f929cc1c"
      },
      "outputs": [
        {
          "name": "stdout",
          "output_type": "stream",
          "text": [
            "Test Acc: 0.980000\n"
          ]
        }
      ],
      "source": [
        "test_loader = DataLoader(test_dataset, batch_size=batch_size, shuffle=False)\n",
        "evaluate(model=symmetryCNN, test_data=test_loader)"
      ]
    },
    {
      "cell_type": "markdown",
      "id": "06c5a8d4",
      "metadata": {
        "id": "06c5a8d4"
      },
      "source": [
        "## Task 1: Question 5d"
      ]
    },
    {
      "cell_type": "code",
      "execution_count": null,
      "id": "37e8735b",
      "metadata": {
        "id": "37e8735b"
      },
      "outputs": [],
      "source": []
    },
    {
      "cell_type": "markdown",
      "id": "1e988bc2-6ba1-49cd-ae26-6feea8ad2776",
      "metadata": {
        "id": "1e988bc2-6ba1-49cd-ae26-6feea8ad2776"
      },
      "source": [
        "# Task 2: Carpet Matching"
      ]
    },
    {
      "cell_type": "code",
      "execution_count": null,
      "id": "20a2ce3a-4c8c-4f1f-9a29-113063ce7f74",
      "metadata": {
        "colab": {
          "base_uri": "https://localhost:8080/"
        },
        "id": "20a2ce3a-4c8c-4f1f-9a29-113063ce7f74",
        "outputId": "d154365b-ca73-464d-d83a-6c9bd6e7815d"
      },
      "outputs": [
        {
          "name": "stdout",
          "output_type": "stream",
          "text": [
            "Carpet train shape: (15000, 1, 96, 60)\n",
            "Label train shape: (15000,)\n",
            "Ground truth test shape: (300,)\n",
            "Query carpets shape: (300, 1, 96, 60)\n",
            "Candidate carpets shape: (300, 4, 1, 96, 60)\n"
          ]
        }
      ],
      "source": [
        "# loading training and testing data for task 2\n",
        "# DO NOT MODIFY\n",
        "task2 = load_numpy_arr_from_url(\"https://github.com/vlamen/tue-deeplearning/blob/main/assignments/assignment_1/task2data.npz?raw=true\")\n",
        "# task2 = np.load('task2data.npz')\n",
        "\n",
        "X = task2['arr_0'].astype(float)\n",
        "y = task2['arr_1'].astype(float)\n",
        "gt = task2['arr_2'].astype(float) # ground truth\n",
        "queries = task2['arr_3'].astype(float)\n",
        "targets = task2['arr_4'].astype(float)\n",
        "\n",
        "print(f\"Carpet train shape: {X.shape}\")\n",
        "print(f\"Label train shape: {y.shape}\")\n",
        "print(f\"Ground truth test shape: {gt.shape}\")\n",
        "print(f\"Query carpets shape: {queries.shape}\")\n",
        "print(f\"Candidate carpets shape: {targets.shape}\")"
      ]
    },
    {
      "cell_type": "code",
      "execution_count": null,
      "id": "f8c16073-7f5c-4bd4-9c11-c0a321736982",
      "metadata": {
        "id": "f8c16073-7f5c-4bd4-9c11-c0a321736982"
      },
      "outputs": [],
      "source": [
        "from symconv import Slice, SymmetryConv2d, SymmetryPool\n",
        "\n",
        "class EmbeddingNet(nn.Module):\n",
        "    def __init__(self):\n",
        "        super(EmbeddingNet, self).__init__()\n",
        "\n",
        "        # unit cell (4-fold rotation), 18 filters (18 different unit cells)\n",
        "        self.slice4 = Slice(rotation=4, reflection=False)\n",
        "        self.conv1 = SymmetryConv2d(in_filters=1, out_filters=18, kernel_size=4, stride=4, rotation=4, reflection=False)\n",
        "\n",
        "        # super cell (1-fold rotation), 12 filters (12 different super cells)\n",
        "        self.slice1 = Slice(rotation=1, reflection=False)\n",
        "        self.conv2 = SymmetryConv2d(in_filters=18, out_filters=12, kernel_size=3, stride=3, rotation=1, reflection=False)\n",
        "\n",
        "        self.relu = nn.ReLU()\n",
        "        self.pool = SymmetryPool()\n",
        "\n",
        "        # Embedding head\n",
        "        self.fc1 = nn.Linear(480, 128)\n",
        "\n",
        "    def forward(self, x):\n",
        "        # Unit cell level\n",
        "        x = self.slice4(x)\n",
        "        x = self.conv1(x)\n",
        "        x = self.relu(x)\n",
        "        x = self.pool(x)\n",
        "\n",
        "        # Super cell level\n",
        "        x = self.slice1(x)\n",
        "        x = self.conv2(x)\n",
        "        x = self.relu(x)\n",
        "        x = self.pool(x)\n",
        "\n",
        "        # Classifier head\n",
        "        x = torch.flatten(x, 1)\n",
        "        x = self.fc1(x)\n",
        "\n",
        "        return x"
      ]
    },
    {
      "cell_type": "code",
      "execution_count": null,
      "id": "946G9J9PPGoV",
      "metadata": {
        "id": "946G9J9PPGoV"
      },
      "outputs": [],
      "source": [
        "from torch.utils.data.sampler import BatchSampler\n",
        "import numpy as np\n",
        "\n",
        "\n",
        "class BalancedBatchSampler(BatchSampler):\n",
        "    \"\"\"\n",
        "    Returns batches of size n_classes * n_samples\n",
        "    \"\"\"\n",
        "\n",
        "    def __init__(self, labels, n_classes, n_samples):\n",
        "        self.labels = labels\n",
        "        self.labels_set = list(set(self.labels))\n",
        "        self.label_to_indices = {label: np.where(np.array(self.labels) == label)[0]\n",
        "                                 for label in self.labels_set}\n",
        "        for l in self.labels_set:\n",
        "            np.random.shuffle(self.label_to_indices[l])\n",
        "        self.used_label_indices_count = {label: 0 for label in self.labels_set}\n",
        "        self.count = 0\n",
        "        self.n_classes = n_classes\n",
        "        self.n_samples = n_samples\n",
        "        self.n_dataset = len(self.labels)\n",
        "        self.batch_size = self.n_samples * self.n_classes\n",
        "\n",
        "    def __iter__(self):\n",
        "        self.count = 0\n",
        "        while self.count + self.batch_size < self.n_dataset:\n",
        "            classes = np.random.choice(self.labels_set, self.n_classes, replace=False)\n",
        "            indices = []\n",
        "            for class_ in classes:\n",
        "                indices.extend(self.label_to_indices[class_][\n",
        "                               self.used_label_indices_count[class_]:self.used_label_indices_count[\n",
        "                                                                         class_] + self.n_samples])\n",
        "                self.used_label_indices_count[class_] += self.n_samples\n",
        "                if self.used_label_indices_count[class_] + self.n_samples > len(self.label_to_indices[class_]):\n",
        "                    np.random.shuffle(self.label_to_indices[class_])\n",
        "                    self.used_label_indices_count[class_] = 0\n",
        "            yield indices\n",
        "            self.count += self.n_classes * self.n_samples\n",
        "\n",
        "    def __len__(self):\n",
        "        return self.n_dataset // self.batch_size"
      ]
    },
    {
      "cell_type": "code",
      "execution_count": null,
      "id": "a3n0hcG0PjA7",
      "metadata": {
        "id": "a3n0hcG0PjA7"
      },
      "outputs": [],
      "source": [
        "embedding_train = TensorDataset(torch.tensor(X, dtype=torch.float32), torch.tensor(y, dtype=torch.long))\n",
        "embbeding_train_loader = DataLoader(embedding_train, batch_size=1, shuffle=False)\n",
        "\n",
        "train_batch_sampler = BalancedBatchSampler(y, n_classes=len(np.unique(y)), n_samples=10)\n",
        "triplets_train_loader = torch.utils.data.DataLoader(embedding_train, batch_sampler=train_batch_sampler)"
      ]
    },
    {
      "cell_type": "code",
      "execution_count": null,
      "id": "30cMtBuoPqdv",
      "metadata": {
        "id": "30cMtBuoPqdv"
      },
      "outputs": [],
      "source": [
        "from itertools import combinations\n",
        "\n",
        "class RandomTripletSelector():\n",
        "    \"\"\"\n",
        "    Select random negative example for each positive pair to create triplets\n",
        "    \"\"\"\n",
        "\n",
        "    def __init__(self):\n",
        "        super(RandomTripletSelector, self).__init__()\n",
        "\n",
        "    def get_triplets(self, embeddings, labels):\n",
        "        labels = labels.cpu().data.numpy()\n",
        "        triplets = []\n",
        "        for label in set(labels):\n",
        "            label_mask = (labels == label)\n",
        "            label_indices = np.where(label_mask)[0]\n",
        "            if len(label_indices) < 2:\n",
        "                continue\n",
        "            negative_indices = np.where(np.logical_not(label_mask))[0]\n",
        "            anchor_positives = list(combinations(label_indices, 2))  # all anchor-positive pairs\n",
        "\n",
        "            # random choose one negative example for each positive pair\n",
        "            temp_triplets = [[anchor_positive[0], anchor_positive[1], np.random.choice(negative_indices)] for anchor_positive in anchor_positives]\n",
        "            triplets += temp_triplets\n",
        "\n",
        "        return torch.LongTensor(np.array(triplets))"
      ]
    },
    {
      "cell_type": "code",
      "execution_count": null,
      "id": "Ygd5XaHUUSzY",
      "metadata": {
        "id": "Ygd5XaHUUSzY"
      },
      "outputs": [],
      "source": [
        "class TripletLoss(nn.Module):\n",
        "    \"\"\"\n",
        "    Triplets loss\n",
        "    Takes a batch of embeddings and corresponding labels.\n",
        "    Triplets are generated using triplet_selector object that take embeddings and targets and return indices of triplets\n",
        "    \"\"\"\n",
        "\n",
        "    def __init__(self, margin, triplet_selector):\n",
        "        super(TripletLoss, self).__init__()\n",
        "        self.margin = margin\n",
        "        self.triplet_selector = triplet_selector\n",
        "\n",
        "    def forward(self, embeddings, target):\n",
        "        triplets = self.triplet_selector.get_triplets(embeddings, target)\n",
        "\n",
        "        if embeddings.is_cuda:\n",
        "            triplets = triplets.cuda()\n",
        "\n",
        "        anchor_idx = triplets[:, 0]\n",
        "        positive_idx = triplets[:, 1]\n",
        "        negative_idx = triplets[:, 2]\n",
        "\n",
        "        # L(xp, xn, xa) = max(|xa - xp|^2 - |xa - xn|^2 + alpha, 0)\n",
        "        ap_distances = (embeddings[anchor_idx] - embeddings[positive_idx]).pow(2).sum(1)\n",
        "        an_distances = (embeddings[anchor_idx] - embeddings[negative_idx]).pow(2).sum(1)\n",
        "        losses = F.relu(ap_distances - an_distances + self.margin)\n",
        "\n",
        "        return losses.mean()"
      ]
    },
    {
      "cell_type": "code",
      "execution_count": null,
      "id": "awUyam4ZUpj4",
      "metadata": {
        "id": "awUyam4ZUpj4"
      },
      "outputs": [],
      "source": [
        "class Trainer():\n",
        "    def __init__(self,\n",
        "                 model: torch.nn.Module,\n",
        "                 device: torch.device,\n",
        "                 criterion: torch.nn.Module,\n",
        "                 optimizer: torch.optim.Optimizer,\n",
        "                 training_DataLoader: torch.utils.data.Dataset,\n",
        "                 validation_DataLoader: torch.utils.data.Dataset,\n",
        "                 epochs: int\n",
        "                 ):\n",
        "\n",
        "        self.model = model\n",
        "        self.criterion = criterion\n",
        "        self.optimizer = optimizer\n",
        "        self.training_DataLoader = training_DataLoader\n",
        "        self.validation_DataLoader = validation_DataLoader\n",
        "        self.device = device\n",
        "        self.epochs = epochs\n",
        "\n",
        "    def run_trainer(self):\n",
        "        for epoch in tqdm(range(self.epochs)):\n",
        "\n",
        "            self.model.train()  # train mode\n",
        "\n",
        "            train_losses = []\n",
        "            for batch in self.training_DataLoader:\n",
        "\n",
        "                x, y = batch\n",
        "                input, target = x.to(self.device), y.to(\n",
        "                    self.device)  # send to device (GPU or CPU)\n",
        "                self.optimizer.zero_grad()  # zerograd the parameters\n",
        "                out = self.model(input)  # one forward pass\n",
        "                loss = self.criterion(out, target)  # calculate loss\n",
        "\n",
        "                loss_value = loss.item()\n",
        "                train_losses.append(loss_value)\n",
        "\n",
        "                loss.backward()  # one backward pass\n",
        "                self.optimizer.step()  # update the parameters\n",
        "\n",
        "            # print the results\n",
        "            print(\n",
        "                f'EPOCH: {epoch+1:0>{len(str(self.epochs))}}/{self.epochs}',\n",
        "                end=' '\n",
        "            )\n",
        "            print(f'LOSS: {np.mean(train_losses):.4f}', end=' ')\n"
      ]
    },
    {
      "cell_type": "code",
      "execution_count": null,
      "id": "uY4eIBq5VqhI",
      "metadata": {
        "colab": {
          "base_uri": "https://localhost:8080/"
        },
        "id": "uY4eIBq5VqhI",
        "outputId": "3910f4d7-033a-4b85-c13f-4384d0623142"
      },
      "outputs": [
        {
          "name": "stderr",
          "output_type": "stream",
          "text": [
            " 10%|█         | 1/10 [00:47<07:05, 47.29s/it]"
          ]
        },
        {
          "name": "stdout",
          "output_type": "stream",
          "text": [
            "EPOCH: 01/10 LOSS: 758.4117 "
          ]
        },
        {
          "name": "stderr",
          "output_type": "stream",
          "text": [
            "\r 20%|██        | 2/10 [01:23<05:26, 40.80s/it]"
          ]
        },
        {
          "name": "stdout",
          "output_type": "stream",
          "text": [
            "EPOCH: 02/10 LOSS: 309.8064 "
          ]
        },
        {
          "name": "stderr",
          "output_type": "stream",
          "text": [
            "\r 30%|███       | 3/10 [01:58<04:28, 38.30s/it]"
          ]
        },
        {
          "name": "stdout",
          "output_type": "stream",
          "text": [
            "EPOCH: 03/10 LOSS: 146.7988 "
          ]
        },
        {
          "name": "stderr",
          "output_type": "stream",
          "text": [
            "\r 40%|████      | 4/10 [02:34<03:42, 37.10s/it]"
          ]
        },
        {
          "name": "stdout",
          "output_type": "stream",
          "text": [
            "EPOCH: 04/10 LOSS: 73.9714 "
          ]
        },
        {
          "name": "stderr",
          "output_type": "stream",
          "text": [
            "\r 50%|█████     | 5/10 [03:09<03:02, 36.42s/it]"
          ]
        },
        {
          "name": "stdout",
          "output_type": "stream",
          "text": [
            "EPOCH: 05/10 LOSS: 40.0092 "
          ]
        },
        {
          "name": "stderr",
          "output_type": "stream",
          "text": [
            "\r 60%|██████    | 6/10 [03:44<02:24, 36.11s/it]"
          ]
        },
        {
          "name": "stdout",
          "output_type": "stream",
          "text": [
            "EPOCH: 06/10 LOSS: 22.4257 "
          ]
        },
        {
          "name": "stderr",
          "output_type": "stream",
          "text": [
            "\r 70%|███████   | 7/10 [04:20<01:47, 35.90s/it]"
          ]
        },
        {
          "name": "stdout",
          "output_type": "stream",
          "text": [
            "EPOCH: 07/10 LOSS: 13.2695 "
          ]
        },
        {
          "name": "stderr",
          "output_type": "stream",
          "text": [
            "\r 80%|████████  | 8/10 [04:55<01:11, 35.60s/it]"
          ]
        },
        {
          "name": "stdout",
          "output_type": "stream",
          "text": [
            "EPOCH: 08/10 LOSS: 8.0249 "
          ]
        },
        {
          "name": "stderr",
          "output_type": "stream",
          "text": [
            "\r 90%|█████████ | 9/10 [05:31<00:35, 35.64s/it]"
          ]
        },
        {
          "name": "stdout",
          "output_type": "stream",
          "text": [
            "EPOCH: 09/10 LOSS: 5.1930 "
          ]
        },
        {
          "name": "stderr",
          "output_type": "stream",
          "text": [
            "100%|██████████| 10/10 [06:05<00:00, 36.54s/it]"
          ]
        },
        {
          "name": "stdout",
          "output_type": "stream",
          "text": [
            "EPOCH: 10/10 LOSS: 3.4302 "
          ]
        },
        {
          "name": "stderr",
          "output_type": "stream",
          "text": [
            "\n"
          ]
        }
      ],
      "source": [
        "# device\n",
        "if torch.cuda.is_available():\n",
        "    device = torch.device('cuda')\n",
        "else:\n",
        "    device = torch.device('cpu')\n",
        "\n",
        "# model\n",
        "embedding_net = EmbeddingNet()\n",
        "model = embedding_net.to(device)\n",
        "\n",
        "# margin value\n",
        "margin = 0.001\n",
        "\n",
        "# criterion\n",
        "criterion = TripletLoss(margin, RandomTripletSelector())\n",
        "\n",
        "# optimizer\n",
        "optimizer = torch.optim.Adam(model.parameters(), lr=0.003)\n",
        "\n",
        "# trainer\n",
        "trainer = Trainer(model=model,\n",
        "                  device=device,\n",
        "                  criterion=criterion,\n",
        "                  optimizer=optimizer,\n",
        "                  training_DataLoader=triplets_train_loader,\n",
        "                  validation_DataLoader=None,\n",
        "                  epochs=10)\n",
        "\n",
        "# start training\n",
        "trainer.run_trainer()"
      ]
    },
    {
      "cell_type": "code",
      "execution_count": null,
      "id": "6BcNTOUQeyXK",
      "metadata": {
        "id": "6BcNTOUQeyXK"
      },
      "outputs": [],
      "source": [
        "# function to determine performance of model\n",
        "def query_performance(queries, targets, gt, top=1):\n",
        "    assert top >= 1\n",
        "    cnt = 0\n",
        "    for i in range(gt.shape[0]):\n",
        "\n",
        "        q = queries[i][None].float().to(device)\n",
        "        t = targets[i].float().to(device)\n",
        "\n",
        "        with torch.no_grad():\n",
        "\n",
        "\n",
        "            ### MODIFY IF NECESSARY ###\n",
        "            emb_q = trainer.model(q).cpu().numpy()\n",
        "            emb_t = trainer.model(t).cpu().numpy()\n",
        "\n",
        "\n",
        "            dists = cdist(emb_q, emb_t)\n",
        "\n",
        "            if top == 1:\n",
        "                pred = np.argmin(dists)\n",
        "\n",
        "                if pred == gt[i]:\n",
        "                    cnt += 1\n",
        "\n",
        "            else:\n",
        "                pred = np.argsort(dists)\n",
        "                if gt[i] in pred[0,:top].tolist():\n",
        "                    cnt+=1\n",
        "    return (100*cnt/gt.shape[0])"
      ]
    },
    {
      "cell_type": "code",
      "execution_count": null,
      "id": "QpJ6ru2NWNzg",
      "metadata": {
        "colab": {
          "base_uri": "https://localhost:8080/"
        },
        "id": "QpJ6ru2NWNzg",
        "outputId": "7424a789-f081-41db-9960-8656258ca88c"
      },
      "outputs": [
        {
          "name": "stdout",
          "output_type": "stream",
          "text": [
            "Performance for k=1: 86.0\n",
            "Performance for k=2: 93.66666666666667\n",
            "Performance for k=3: 97.33333333333333\n"
          ]
        }
      ],
      "source": [
        "for k in [1,2,3]:\n",
        "    print(f'Performance for k={k}: {query_performance(torch.tensor(queries), torch.tensor(targets), gt, top=k)}')"
      ]
    },
    {
      "cell_type": "code",
      "execution_count": null,
      "id": "068d5e9c-9fcc-44af-99a8-586c4bfa3c9a",
      "metadata": {
        "id": "068d5e9c-9fcc-44af-99a8-586c4bfa3c9a"
      },
      "outputs": [],
      "source": []
    }
  ],
  "metadata": {
    "colab": {
      "provenance": []
    },
    "kernelspec": {
      "display_name": "Python 3 (ipykernel)",
      "language": "python",
      "name": "python3"
    },
    "language_info": {
      "codemirror_mode": {
        "name": "ipython",
        "version": 3
      },
      "file_extension": ".py",
      "mimetype": "text/x-python",
      "name": "python",
      "nbconvert_exporter": "python",
      "pygments_lexer": "ipython3",
      "version": "3.9.13"
    }
  },
  "nbformat": 4,
  "nbformat_minor": 5
}
