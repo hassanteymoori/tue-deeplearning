{
 "cells": [
  {
   "cell_type": "markdown",
   "id": "557bc264",
   "metadata": {
    "colab_type": "text",
    "id": "view-in-github"
   },
   "source": [
    "<a href=\"https://colab.research.google.com/github/vlamen/tue-deeplearning/blob/main/assignments/assignment_1/Assignment_1.ipynb\" target=\"_parent\"><img src=\"https://colab.research.google.com/assets/colab-badge.svg\" alt=\"Open In Colab\"/></a>"
   ]
  },
  {
   "cell_type": "markdown",
   "id": "a4ec9a11-3515-40aa-97ac-73c249df560e",
   "metadata": {
    "id": "a4ec9a11-3515-40aa-97ac-73c249df560e"
   },
   "source": [
    "# Group Number:\n",
    "# Student 1:\n",
    "# Student 2:\n",
    "# Student 3:"
   ]
  },
  {
   "cell_type": "markdown",
   "id": "a8c200a7-b3ab-4c9a-bcf8-320271c040f3",
   "metadata": {
    "id": "a8c200a7-b3ab-4c9a-bcf8-320271c040f3"
   },
   "source": [
    "In case you are using google colab, uncomment the following cell, and modify the ```notebook_dir``` variable to contain the directory this notebook is in. It will automatically download the .py files needed for this assignment"
   ]
  },
  {
   "cell_type": "code",
   "execution_count": 1,
   "id": "igFRsZKIC18S",
   "metadata": {
    "id": "igFRsZKIC18S"
   },
   "outputs": [],
   "source": [
    "# # Change the following  line to the directory this notebook is (if using colab)\n",
    "# # In case you do not know the path, open the file navigator on the left in colab\n",
    "# # Find the folder containing this notebook, then press on the three dots --> copy path\n",
    "# notebook_dir = \"/content/drive/MyDrive/Colab Notebooks/\""
   ]
  },
  {
   "cell_type": "code",
   "execution_count": 2,
   "id": "828246d4-75b2-42b7-ab06-925e6624f411",
   "metadata": {
    "id": "828246d4-75b2-42b7-ab06-925e6624f411"
   },
   "outputs": [],
   "source": [
    "# # UNCOMMENT IF USING COLAB\n",
    "# from google.colab import drive\n",
    "# import requests\n",
    "# drive.mount('/content/drive')\n",
    "# import sys\n",
    "# import os\n",
    "# sys.path.insert(0, notebook_dir) \n",
    "# os.chdir(notebook_dir)\n",
    "# symco = \"https://github.com/vlamen/tue-deeplearning/blob/main/assignments/assignment_1/symconv.py?raw=true\"\n",
    "# crpt = \"https://github.com/vlamen/tue-deeplearning/blob/main/assignments/assignment_1/carpet.py?raw=true\"\n",
    "# r_s = requests.get(symco, allow_redirects=True)\n",
    "# r_c = requests.get(crpt, allow_redirects=True)\n",
    "# with open('symconv.py', 'wb') as f:\n",
    "#     f.write(r_s.content)\n",
    "# with open('carpet.py', 'wb') as f:\n",
    "#     f.write(r_c.content)"
   ]
  },
  {
   "cell_type": "code",
   "execution_count": 3,
   "id": "2e9c884c",
   "metadata": {},
   "outputs": [
    {
     "name": "stdout",
     "output_type": "stream",
     "text": [
      "Requirement already satisfied: scipy in c:\\users\\20225521\\.conda\\envs\\thesis\\lib\\site-packages (1.10.1)\n",
      "Requirement already satisfied: numpy<1.27.0,>=1.19.5 in c:\\users\\20225521\\.conda\\envs\\thesis\\lib\\site-packages (from scipy) (1.24.4)\n",
      "Requirement already satisfied: tqdm in c:\\users\\20225521\\.conda\\envs\\thesis\\lib\\site-packages (4.66.1)\n",
      "Requirement already satisfied: colorama in c:\\users\\20225521\\.conda\\envs\\thesis\\lib\\site-packages (from tqdm) (0.4.6)\n"
     ]
    }
   ],
   "source": [
    "!pip install scipy\n",
    "!pip install tqdm"
   ]
  },
  {
   "cell_type": "code",
   "execution_count": 2,
   "id": "1c401bd6-3828-4f5e-ada8-a026e0a167bf",
   "metadata": {
    "id": "1c401bd6-3828-4f5e-ada8-a026e0a167bf"
   },
   "outputs": [],
   "source": [
    "import torch\n",
    "import torch.nn as nn\n",
    "import torch.nn.functional as F\n",
    "from torch.utils.data import DataLoader, Dataset, TensorDataset\n",
    "\n",
    "import io\n",
    "import requests\n",
    "\n",
    "import symconv as sc\n",
    "from carpet import show_carpet, oh_to_label\n",
    "\n",
    "import numpy as np\n",
    "import matplotlib.pyplot as plt\n",
    "\n",
    "from scipy.spatial.distance import cdist\n",
    "\n",
    "from tqdm import tqdm"
   ]
  },
  {
   "cell_type": "code",
   "execution_count": 3,
   "id": "35c0bcb8-5215-40b3-8ba2-7e4208651c90",
   "metadata": {
    "id": "35c0bcb8-5215-40b3-8ba2-7e4208651c90"
   },
   "outputs": [],
   "source": [
    "def load_numpy_arr_from_url(url):\n",
    "    \"\"\"\n",
    "    Loads a numpy array from surfdrive. \n",
    "    \n",
    "    Input:\n",
    "    url: Download link of dataset \n",
    "    \n",
    "    Outputs:\n",
    "    dataset: numpy array with input features or labels\n",
    "    \"\"\"\n",
    "    \n",
    "    response = requests.get(url)\n",
    "    response.raise_for_status()\n",
    "\n",
    "    return np.load(io.BytesIO(response.content)) "
   ]
  },
  {
   "cell_type": "markdown",
   "id": "045a1fdc-8c84-4829-b8c8-14c957f733f6",
   "metadata": {
    "id": "045a1fdc-8c84-4829-b8c8-14c957f733f6"
   },
   "source": [
    "# Task 1: Pattern Classification"
   ]
  },
  {
   "cell_type": "code",
   "execution_count": 4,
   "id": "a45b63ab-610e-4e03-b1da-a717c2a77c8a",
   "metadata": {
    "id": "a45b63ab-610e-4e03-b1da-a717c2a77c8a"
   },
   "outputs": [
    {
     "name": "stdout",
     "output_type": "stream",
     "text": [
      "Carpet train shape: torch.Size([7500, 1, 96, 60])\n",
      "Label train shape: torch.Size([7500, 3])\n",
      "Carpet validation shape: torch.Size([2000, 1, 96, 60])\n",
      "Label validation shape: torch.Size([2000, 3])\n",
      "Carpet test shape: torch.Size([500, 1, 96, 60])\n",
      "Label test shape: torch.Size([500, 3])\n"
     ]
    }
   ],
   "source": [
    "# loading training and testing data for task 1\n",
    "# DO NOT MODIFY\n",
    "task1 = load_numpy_arr_from_url(\"https://github.com/vlamen/tue-deeplearning/blob/main/assignments/assignment_1/task1data.npz?raw=true\")\n",
    "# task1 = np.load(\"task1data.npz\")\n",
    "\n",
    "X = torch.tensor(task1['arr_0']).float()\n",
    "y = torch.tensor(task1['arr_1']).float()\n",
    "\n",
    "X_train = X[:7500]\n",
    "X_val = X[7500:9500]\n",
    "X_test = X[9500:]\n",
    "y_train = y[:7500]\n",
    "y_val = y[7500:9500]\n",
    "y_test  = y[9500:]\n",
    "\n",
    "train_dataset = TensorDataset(X_train, y_train)\n",
    "val_dataset = TensorDataset(X_val, y_val)\n",
    "test_dataset = TensorDataset(X_test, y_test)\n",
    "\n",
    "\n",
    "print(f\"Carpet train shape: {X_train.shape}\")\n",
    "print(f\"Label train shape: {y_train.shape}\")\n",
    "print(f\"Carpet validation shape: {X_val.shape}\")\n",
    "print(f\"Label validation shape: {y_val.shape}\")\n",
    "print(f\"Carpet test shape: {X_test.shape}\")\n",
    "print(f\"Label test shape: {y_test.shape}\")"
   ]
  },
  {
   "cell_type": "code",
   "execution_count": 5,
   "id": "a4c5553f-023f-48fc-81b5-83184a46a21d",
   "metadata": {
    "id": "a4c5553f-023f-48fc-81b5-83184a46a21d"
   },
   "outputs": [
    {
     "name": "stdout",
     "output_type": "stream",
     "text": [
      "Carpet from Reinforciya\n"
     ]
    },
    {
     "data": {
      "image/png": "[encoded data removed]",
      "text/plain": [
       "<Figure size 640x480 with 1 Axes>"
      ]
     },
     "metadata": {},
     "output_type": "display_data"
    }
   ],
   "source": [
    "# random carpet\n",
    "idx = np.random.randint(0,7500)\n",
    "show_carpet(X_train, idx)\n",
    "print('Carpet from', oh_to_label(y_train[idx,None])[0])"
   ]
  },
  {
   "cell_type": "code",
   "execution_count": 6,
   "id": "87c96ef6",
   "metadata": {},
   "outputs": [
    {
     "data": {
      "text/plain": [
       "tensor([0., 0., 1.])"
      ]
     },
     "execution_count": 6,
     "metadata": {},
     "output_type": "execute_result"
    }
   ],
   "source": [
    "y_test[0]"
   ]
  },
  {
   "cell_type": "code",
   "execution_count": 7,
   "id": "7a5db004-5dbf-42b3-a665-3c97c293d6c5",
   "metadata": {
    "id": "7a5db004-5dbf-42b3-a665-3c97c293d6c5"
   },
   "outputs": [],
   "source": [
    "###     YOUR CODE FOR TASK 1    ###\n",
    "### ADD MORE CELLS IF NECESSARY ###"
   ]
  },
  {
   "cell_type": "code",
   "execution_count": 8,
   "id": "bfed4f40",
   "metadata": {},
   "outputs": [],
   "source": [
    "from symconv import SymmetryPool, Slice, SymmetryConv2d"
   ]
  },
  {
   "cell_type": "code",
   "execution_count": 11,
   "id": "19c28741",
   "metadata": {},
   "outputs": [],
   "source": [
    "import torch\n",
    "import torch.nn as nn\n",
    "import torch.nn.functional as F\n",
    "from torch.utils.data import DataLoader, Dataset, TensorDataset\n",
    "from symconv import SymmetryPool, Slice, SymmetryConv2d\n",
    "\n",
    "class CarpetOriginCNN(nn.Module):\n",
    "    def __init__(self, num_classes):\n",
    "        super(CarpetOriginCNN, self).__init__()\n",
    "        \n",
    "        self.slice4 = Slice(rotation=4, reflection=False)\n",
    "        self.conv1 = SymmetryConv2d(\n",
    "            in_filters=1,\n",
    "            out_filters=18,\n",
    "            kernel_size=4,\n",
    "            stride=4,\n",
    "            rotation=4,\n",
    "            reflection=False\n",
    "        )\n",
    "\n",
    "        self.slice1 = Slice(rotation=1, reflection=False)\n",
    "        self.conv2 = SymmetryConv2d(\n",
    "            in_filters=18,\n",
    "            out_filters=12,\n",
    "            kernel_size=3,\n",
    "            stride=3,\n",
    "            rotation=1,\n",
    "            reflection=False\n",
    "        )\n",
    "        \n",
    "        self.pool = SymmetryPool(pool=torch.amax)  # Use SymmetryPool for pooling\n",
    "        self.fc1 = nn.Linear(480, 128)  # Adjust the input size\n",
    "        self.fc2 = nn.Linear(128, num_classes)  # Use num_classes for the output layer\n",
    "\n",
    "    def forward(self, x):\n",
    "        x = self.slice4(x)\n",
    "        x = self.conv1(x)\n",
    "        x = F.relu(x)\n",
    "        x = self.pool(x)\n",
    "\n",
    "        x = self.slice1(x)\n",
    "        x = self.conv2(x)\n",
    "        x = F.relu(x)\n",
    "        x = self.pool(x)\n",
    "        \n",
    "        x = x.view(x.size(0), -1)  # Flatten the tensor\n",
    "        \n",
    "        x = self.fc1(x)\n",
    "        x = F.relu(x)\n",
    "        logits = self.fc2(x)\n",
    "        return logits\n",
    "\n",
    "model = CarpetOriginCNN(3) # Three cities: Convolushahr, Transformabad, Reinforciya\n",
    "optimizer = torch.optim.Adam(model.parameters(), lr=0.001)\n",
    "loss_fn = torch.nn.CrossEntropyLoss()\n",
    "\n",
    "# Create dataloaders for training and validation\n",
    "batch_size = 128\n",
    "train_loader = DataLoader(train_dataset, batch_size=batch_size, shuffle=True)\n",
    "val_loader = DataLoader(val_dataset, batch_size=batch_size)\n",
    "test_loader = DataLoader(test_dataset, batch_size=batch_size)"
   ]
  },
  {
   "cell_type": "code",
   "execution_count": 12,
   "id": "d520abf0",
   "metadata": {},
   "outputs": [
    {
     "name": "stderr",
     "output_type": "stream",
     "text": [
      "Epoch 1/10: 100%|██████████| 59/59 [00:06<00:00,  8.69batch/s, loss=0.768]\n"
     ]
    },
    {
     "name": "stdout",
     "output_type": "stream",
     "text": [
      "Epoch [1/10] Average Loss: 1.8774\n"
     ]
    },
    {
     "name": "stderr",
     "output_type": "stream",
     "text": [
      "Epoch 2/10: 100%|██████████| 59/59 [00:05<00:00, 11.04batch/s, loss=0.613]\n"
     ]
    },
    {
     "name": "stdout",
     "output_type": "stream",
     "text": [
      "Epoch [2/10] Average Loss: 0.6888\n"
     ]
    },
    {
     "name": "stderr",
     "output_type": "stream",
     "text": [
      "Epoch 3/10: 100%|██████████| 59/59 [00:05<00:00, 11.10batch/s, loss=0.526]\n"
     ]
    },
    {
     "name": "stdout",
     "output_type": "stream",
     "text": [
      "Epoch [3/10] Average Loss: 0.5952\n"
     ]
    },
    {
     "name": "stderr",
     "output_type": "stream",
     "text": [
      "Epoch 4/10: 100%|██████████| 59/59 [00:05<00:00, 11.04batch/s, loss=0.416]\n"
     ]
    },
    {
     "name": "stdout",
     "output_type": "stream",
     "text": [
      "Epoch [4/10] Average Loss: 0.4756\n"
     ]
    },
    {
     "name": "stderr",
     "output_type": "stream",
     "text": [
      "Epoch 5/10: 100%|██████████| 59/59 [00:05<00:00, 10.99batch/s, loss=0.228]\n"
     ]
    },
    {
     "name": "stdout",
     "output_type": "stream",
     "text": [
      "Epoch [5/10] Average Loss: 0.3442\n"
     ]
    },
    {
     "name": "stderr",
     "output_type": "stream",
     "text": [
      "Epoch 6/10: 100%|██████████| 59/59 [00:05<00:00, 11.16batch/s, loss=0.184]\n"
     ]
    },
    {
     "name": "stdout",
     "output_type": "stream",
     "text": [
      "Epoch [6/10] Average Loss: 0.1977\n"
     ]
    },
    {
     "name": "stderr",
     "output_type": "stream",
     "text": [
      "Epoch 7/10: 100%|██████████| 59/59 [00:05<00:00, 10.49batch/s, loss=0.0678]\n"
     ]
    },
    {
     "name": "stdout",
     "output_type": "stream",
     "text": [
      "Epoch [7/10] Average Loss: 0.1136\n"
     ]
    },
    {
     "name": "stderr",
     "output_type": "stream",
     "text": [
      "Epoch 8/10: 100%|██████████| 59/59 [00:05<00:00, 10.90batch/s, loss=0.0465]\n"
     ]
    },
    {
     "name": "stdout",
     "output_type": "stream",
     "text": [
      "Epoch [8/10] Average Loss: 0.0685\n"
     ]
    },
    {
     "name": "stderr",
     "output_type": "stream",
     "text": [
      "Epoch 9/10: 100%|██████████| 59/59 [00:05<00:00, 10.78batch/s, loss=0.032] \n"
     ]
    },
    {
     "name": "stdout",
     "output_type": "stream",
     "text": [
      "Epoch [9/10] Average Loss: 0.0465\n"
     ]
    },
    {
     "name": "stderr",
     "output_type": "stream",
     "text": [
      "Epoch 10/10: 100%|██████████| 59/59 [00:05<00:00, 10.88batch/s, loss=0.0407]\n"
     ]
    },
    {
     "name": "stdout",
     "output_type": "stream",
     "text": [
      "Epoch [10/10] Average Loss: 0.0462\n"
     ]
    }
   ],
   "source": [
    "from tqdm import tqdm\n",
    "\n",
    "# Define a function for training the model with a progress bar\n",
    "def train_model(model, dataloader, optimizer, loss_fn, num_epochs=10):\n",
    "    model.train()\n",
    "    for epoch in range(num_epochs):\n",
    "        running_loss = 0.0\n",
    "        with tqdm(total=len(dataloader), desc=f\"Epoch {epoch+1}/{num_epochs}\", unit=\"batch\") as pbar:\n",
    "            for batch_idx, (inputs, labels) in enumerate(dataloader):\n",
    "                optimizer.zero_grad()\n",
    "                outputs = model(inputs)\n",
    "                loss = loss_fn(outputs, labels[:, 0].long())  # Use the first label for city prediction\n",
    "                loss.backward()\n",
    "                optimizer.step()\n",
    "                running_loss += loss.item()\n",
    "                pbar.set_postfix(loss=loss.item())  # Display the current batch loss in the progress bar\n",
    "                pbar.update()\n",
    "            \n",
    "        # Print the average loss for the epoch\n",
    "        epoch_loss = running_loss / len(dataloader)\n",
    "        print(f\"Epoch [{epoch + 1}/{num_epochs}] Average Loss: {epoch_loss:.4f}\")\n",
    "\n",
    "train_model(model, train_loader, optimizer, loss_fn, 10)"
   ]
  },
  {
   "cell_type": "markdown",
   "id": "06c5a8d4",
   "metadata": {},
   "source": [
    "## Task 1: Question 5d"
   ]
  },
  {
   "cell_type": "code",
   "execution_count": 13,
   "id": "37e8735b",
   "metadata": {},
   "outputs": [
    {
     "name": "stdout",
     "output_type": "stream",
     "text": [
      "Validation Accuracy: 99.3%\n"
     ]
    }
   ],
   "source": [
    "# Evaluate the model on the validation set\n",
    "model.eval()\n",
    "correct = 0\n",
    "total = 0\n",
    "with torch.no_grad():\n",
    "    for inputs, labels in val_loader:\n",
    "        outputs = model(inputs)\n",
    "        _, predicted = torch.max(outputs.data, 1)\n",
    "        total += labels.size(0)\n",
    "        correct += (predicted == labels[:, 0].long()).sum().item()  # Use the first label for city prediction\n",
    "\n",
    "print(f\"Validation Accuracy: {100 * correct / total}%\")"
   ]
  },
  {
   "cell_type": "code",
   "execution_count": null,
   "id": "60ffe8cd",
   "metadata": {},
   "outputs": [
    {
     "name": "stdout",
     "output_type": "stream",
     "text": [
      "test Accuracy: 99.8%\n"
     ]
    }
   ],
   "source": [
    "# Evaluate the model on the validation set\n",
    "model.eval()\n",
    "correct = 0\n",
    "total = 0\n",
    "with torch.no_grad():\n",
    "    for inputs, labels in test_loader:\n",
    "        outputs = model(inputs)\n",
    "        _, predicted = torch.max(outputs.data, 1)\n",
    "        total += labels.size(0)\n",
    "        correct += (predicted == labels[:, 0].long()).sum().item()  # Use the first label for city prediction\n",
    "\n",
    "print(f\"test Accuracy: {100 * correct / total}%\")"
   ]
  },
  {
   "cell_type": "markdown",
   "id": "1e988bc2-6ba1-49cd-ae26-6feea8ad2776",
   "metadata": {
    "id": "1e988bc2-6ba1-49cd-ae26-6feea8ad2776"
   },
   "source": [
    "# Task 2: Carpet Matching "
   ]
  },
  {
   "cell_type": "markdown",
   "id": "20a2ce3a-4c8c-4f1f-9a29-113063ce7f74",
   "metadata": {
    "id": "20a2ce3a-4c8c-4f1f-9a29-113063ce7f74"
   },
   "source": [
    "# loading training and testing data for task 2\n",
    "# DO NOT MODIFY\n",
    "task2 = load_numpy_arr_from_url(\"https://github.com/vlamen/tue-deeplearning/blob/main/assignments/assignment_1/task2data.npz?raw=true\")\n",
    "# task2 = np.load('task2data.npz')\n",
    "\n",
    "X = task2['arr_0'].astype(float)\n",
    "y = task2['arr_1'].astype(float)\n",
    "gt = task2['arr_2'].astype(float) # ground truth\n",
    "queries = task2['arr_3'].astype(float)\n",
    "targets = task2['arr_4'].astype(float)\n",
    "\n",
    "print(f\"Carpet train shape: {X.shape}\")\n",
    "print(f\"Label train shape: {y.shape}\")\n",
    "print(f\"Ground truth test shape: {gt.shape}\")\n",
    "print(f\"Query carpets shape: {queries.shape}\")\n",
    "print(f\"Candidate carpets shape: {targets.shape}\")"
   ]
  },
  {
   "cell_type": "markdown",
   "id": "fd0cc1db-e473-412e-b6b8-c95adc5438dd",
   "metadata": {
    "id": "fd0cc1db-e473-412e-b6b8-c95adc5438dd"
   },
   "source": [
    "import torch\n",
    "import torch.nn as nn\n",
    "import torch.nn.functional as F\n",
    "from torch.utils.data import DataLoader, Dataset, TensorDataset\n",
    "\n",
    "# ... (Previous code for data loading and preprocessing)\n",
    "\n",
    "class CarpetOriginCNN(nn.Module):\n",
    "    def __init__(self, num_classes):\n",
    "        super(CarpetOriginCNN, self).__init__()\n",
    "        self.conv1 = nn.Conv2d(1, 32, kernel_size=3, padding=1)\n",
    "        self.conv2 = nn.Conv2d(32, 64, kernel_size=3, padding=1)\n",
    "        self.pool = nn.MaxPool2d(kernel_size=2, stride=2)\n",
    "        self.fc1 = nn.Linear(64 * 12 * 15, 128)  # Adjust the input size\n",
    "        self.fc2 = nn.Linear(128, num_classes)  # Use num_classes for the output layer\n",
    "\n",
    "    def forward(self, x):\n",
    "        x = self.pool(F.relu(self.conv1(x)))\n",
    "        x = self.pool(F.relu(self.conv2(x)))\n",
    "        x = x.view(x.size(0), -1)  # Flatten the tensor\n",
    "        x = F.relu(self.fc1(x))\n",
    "        x = self.fc2(x)\n",
    "        return x\n",
    "\n",
    "# Initialize the model and optimizer\n",
    "num_classes = 3  # Three cities: Convolushahr, Transformabad, Reinforciya\n",
    "model = CarpetOriginCNN(num_classes)\n",
    "optimizer = torch.optim.Adam(model.parameters(), lr=0.001)\n",
    "criterion = nn.CrossEntropyLoss()\n",
    "\n",
    "# Create dataloaders for training and validation\n",
    "batch_size = 64\n",
    "train_loader = DataLoader(train_dataset, batch_size=batch_size, shuffle=True)\n",
    "val_loader = DataLoader(val_dataset, batch_size=batch_size)\n",
    "\n",
    "# Define a function for training the model\n",
    "def train_model(model, dataloader, optimizer, criterion, num_epochs=10):\n",
    "    model.train()\n",
    "    for epoch in range(num_epochs):\n",
    "        running_loss = 0.0\n",
    "        for inputs, labels in dataloader:\n",
    "            optimizer.zero_grad()\n",
    "            outputs = model(inputs)\n",
    "            loss = criterion(outputs, labels[:, 0].long())  # Use the first label for city prediction\n",
    "            loss.backward()\n",
    "            optimizer.step()\n",
    "            running_loss += loss.item()\n",
    "        print(f\"Epoch {epoch+1}/{num_epochs}, Loss: {running_loss / len(dataloader)}\")\n",
    "\n",
    "# Train the model\n",
    "train_model(model, train_loader, optimizer, criterion, num_epochs=10)\n",
    "\n",
    "# Evaluate the model on the validation set\n",
    "model.eval()\n",
    "correct = 0\n",
    "total = 0\n",
    "with torch.no_grad():\n",
    "    for inputs, labels in val_loader:\n",
    "        outputs = model(inputs)\n",
    "        _, predicted = torch.max(outputs.data, 1)\n",
    "        total += labels.size(0)\n",
    "        correct += (predicted == labels[:, 0].long()).sum().item()  # Use the first label for city prediction\n",
    "\n",
    "print(f\"Validation Accuracy: {100 * correct / total}%\")\n"
   ]
  },
  {
   "cell_type": "code",
   "execution_count": null,
   "id": "f8c16073-7f5c-4bd4-9c11-c0a321736982",
   "metadata": {
    "id": "f8c16073-7f5c-4bd4-9c11-c0a321736982"
   },
   "outputs": [],
   "source": [
    "###     YOUR CODE FOR TASK 2    ###\n",
    "### ADD MORE CELLS IF NECESSARY ###"
   ]
  },
  {
   "cell_type": "code",
   "execution_count": null,
   "id": "068d5e9c-9fcc-44af-99a8-586c4bfa3c9a",
   "metadata": {
    "id": "068d5e9c-9fcc-44af-99a8-586c4bfa3c9a"
   },
   "outputs": [],
   "source": []
  }
 ],
 "metadata": {
  "colab": {
   "include_colab_link": true,
   "provenance": []
  },
  "kernelspec": {
   "display_name": "Python 3 (ipykernel)",
   "language": "python",
   "name": "python3"
  },
  "language_info": {
   "codemirror_mode": {
    "name": "ipython",
    "version": 3
   },
   "file_extension": ".py",
   "mimetype": "text/x-python",
   "name": "python",
   "nbconvert_exporter": "python",
   "pygments_lexer": "ipython3",
   "version": "3.8.16"
  }
 },
 "nbformat": 4,
 "nbformat_minor": 5
}
